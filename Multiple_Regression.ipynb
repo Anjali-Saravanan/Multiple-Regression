{
  "nbformat": 4,
  "nbformat_minor": 0,
  "metadata": {
    "colab": {
      "name": "Multiple Regression.ipynb",
      "provenance": [],
      "collapsed_sections": [],
      "authorship_tag": "ABX9TyPzzy94fbKlvaz+JMrRN4H+",
      "include_colab_link": true
    },
    "kernelspec": {
      "name": "python3",
      "display_name": "Python 3"
    },
    "language_info": {
      "name": "python"
    }
  },
  "cells": [
    {
      "cell_type": "markdown",
      "metadata": {
        "id": "view-in-github",
        "colab_type": "text"
      },
      "source": [
        "<a href=\"https://colab.research.google.com/github/Anjali-Saravanan/Multiple-Regression/blob/main/Multiple_Regression.ipynb\" target=\"_parent\"><img src=\"https://colab.research.google.com/assets/colab-badge.svg\" alt=\"Open In Colab\"/></a>"
      ]
    },
    {
      "cell_type": "code",
      "source": [
        "import matplotlib.pyplot as plt \n",
        "import numpy as np \n",
        "from sklearn import datasets, linear_model, metrics \n",
        "  \n",
        "# load the boston dataset \n",
        "boston = datasets.load_boston(return_X_y=False) \n",
        "  \n",
        "# defining feature matrix(X) and response vector(y) \n",
        "X = boston.data \n",
        "y = boston.target \n",
        "  \n",
        "# splitting X and y into training and testing sets \n",
        "from sklearn.model_selection import train_test_split \n",
        "X_train, X_test, y_train, y_test = train_test_split(X, y, test_size=0.4, \n",
        "                                                    random_state=1) \n",
        "  \n",
        "# create linear regression object \n",
        "reg = linear_model.LinearRegression() \n",
        "  \n",
        "# train the model using the training sets \n",
        "reg.fit(X_train, y_train) \n",
        "  \n",
        "# regression coefficients \n",
        "print('Coefficients: \\n', reg.coef_) \n",
        "  \n",
        "# variance score: 1 means perfect prediction \n",
        "print('Variance score: {}'.format(reg.score(X_test, y_test))) \n",
        "  \n",
        "# plot for residual error \n",
        "  \n",
        "## setting plot style \n",
        "plt.style.use('fivethirtyeight') \n",
        "  \n",
        "## plotting residual errors in training data \n",
        "plt.scatter(reg.predict(X_train), reg.predict(X_train) - y_train, \n",
        "            color = \"green\", s = 10, label = 'Train data') \n",
        "  \n",
        "## plotting residual errors in test data \n",
        "plt.scatter(reg.predict(X_test), reg.predict(X_test) - y_test, \n",
        "            color = \"blue\", s = 10, label = 'Test data') \n",
        "  \n",
        "## plotting line for zero residual error \n",
        "plt.hlines(y = 0, xmin = 0, xmax = 50, linewidth = 2) \n",
        "  \n",
        "## plotting legend \n",
        "plt.legend(loc = 'upper right') \n",
        "  \n",
        "## plot title \n",
        "plt.title(\"Residual errors\") \n",
        "  \n",
        "## function to show plot \n",
        "plt.show() "
      ],
      "metadata": {
        "id": "PtZAQOOL09c2"
      },
      "execution_count": null,
      "outputs": []
    }
  ]
}